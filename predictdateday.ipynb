{
  "nbformat": 4,
  "nbformat_minor": 0,
  "metadata": {
    "colab": {
      "name": "predictdateday.ipynb",
      "provenance": [],
      "collapsed_sections": []
    },
    "kernelspec": {
      "name": "python3",
      "display_name": "Python 3"
    },
    "language_info": {
      "name": "python"
    }
  },
  "cells": [
    {
      "cell_type": "code",
      "metadata": {
        "id": "F-QeQh1KhjFY"
      },
      "source": [
        "weather=['Sunny','Sunny','Rainy','Sunny','Sunny','Overcast','Rainy','Overcast','Rainy','Rainy','Rainy','Overcast','Sunny','Overcast']\n",
        "temp=['Mild','Cool','Mild','Hot','Hot','Hot','Mild','Hot','Mild','Cool','Cool','Cool','Mild','Mild']\n",
        "w={'Sunny':2,'Rainy':1,'Overcast':0}\n",
        "t={'Mild':2,'Cool':0,'Hot':1}\n",
        "date=['No','Yes','Yes','No','No','Yes','No','Yes','Yes','Yes','No','Yes','Yes','Yes']"
      ],
      "execution_count": null,
      "outputs": []
    },
    {
      "cell_type": "code",
      "metadata": {
        "colab": {
          "base_uri": "https://localhost:8080/"
        },
        "id": "uSN_zPgrigHy",
        "outputId": "8b22efe0-6cae-42d3-becc-1f6f7d175354"
      },
      "source": [
        "from sklearn import preprocessing\n",
        "#creating labelEncoder\n",
        "le = preprocessing.LabelEncoder()\n",
        "wheather_encoded=le.fit_transform(weather)\n",
        "print(\"Weather:\",wheather_encoded)\n",
        "temp_encoded=le.fit_transform(temp)\n",
        "label=le.fit_transform(date)\n",
        "print(\"Temp:\",temp_encoded)\n",
        "print(\"Date:\",label)\n",
        "features=list(zip(wheather_encoded,temp_encoded))\n",
        "print(features)"
      ],
      "execution_count": null,
      "outputs": [
        {
          "output_type": "stream",
          "text": [
            "Weather: [2 2 1 2 2 0 1 0 1 1 1 0 2 0]\n",
            "Temp: [2 0 2 1 1 1 2 1 2 0 0 0 2 2]\n",
            "Date: [0 1 1 0 0 1 0 1 1 1 0 1 1 1]\n",
            "[(2, 2), (2, 0), (1, 2), (2, 1), (2, 1), (0, 1), (1, 2), (0, 1), (1, 2), (1, 0), (1, 0), (0, 0), (2, 2), (0, 2)]\n"
          ],
          "name": "stdout"
        }
      ]
    },
    {
      "cell_type": "code",
      "metadata": {
        "colab": {
          "base_uri": "https://localhost:8080/"
        },
        "id": "5Yj88ND9jKtj",
        "outputId": "61e22693-23b7-4f5a-c024-72aa49abaf1b"
      },
      "source": [
        "#Import Gaussian Naive Bayes model\n",
        "from sklearn.naive_bayes import GaussianNB\n",
        "\n",
        "#Create a Gaussian Classifier\n",
        "model = GaussianNB()\n",
        "\n",
        "# Train the model using the training sets\n",
        "model.fit(features,label)\n",
        "print(\"\\nNaive Bayes to predict whether today is the perfect day for a Date\\n\")\n",
        "Ww=input(\"Enter today\\'s weather:\")\n",
        "Tt=input(\"Enter today\\'s Temperature:\")\n",
        "#Predict Output\n",
        "predicted= model.predict([[w[Ww],t[Tt]]])  \n",
        "print(\"Predicted Value:\", predicted)\n",
        "for i in predicted:\n",
        "  if i==1:\n",
        "    print(\"Yes, you can go on a DATE today with that person XD\")\n",
        "  else:\n",
        "    print(\"No, it's not a good choice to go on a DATE today :(\")  "
      ],
      "execution_count": null,
      "outputs": [
        {
          "output_type": "stream",
          "text": [
            "\n",
            "Naive Bayes to predict whether today is the perfect day for a Date\n",
            "\n",
            "Enter today's weather:Sunny\n",
            "Enter today's Temperature:Mild\n",
            "Predicted Value: [0]\n",
            "No, it's not a good choice to go on a DATE today :(\n"
          ],
          "name": "stdout"
        }
      ]
    },
    {
      "cell_type": "code",
      "metadata": {
        "id": "zhzoKuDLkkZk"
      },
      "source": [
        ""
      ],
      "execution_count": null,
      "outputs": []
    }
  ]
}